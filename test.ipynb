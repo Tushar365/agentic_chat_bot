{
 "cells": [
  {
   "cell_type": "code",
   "execution_count": 1,
   "metadata": {},
   "outputs": [],
   "source": [
    "from llm.groq_llm import initialize_groq\n",
    "llm=initialize_groq()"
   ]
  },
  {
   "cell_type": "code",
   "execution_count": 2,
   "metadata": {},
   "outputs": [],
   "source": [
    "from tools.tavily_search_tool import initialize_tavily_tool\n",
    "tool = initialize_tavily_tool()\n",
    "tools=[tool]"
   ]
  },
  {
   "cell_type": "code",
   "execution_count": 3,
   "metadata": {},
   "outputs": [],
   "source": [
    "from agents.agent import build_chatbot_graph\n",
    "graph = build_chatbot_graph(llm, tools)"
   ]
  },
  {
   "cell_type": "code",
   "execution_count": 4,
   "metadata": {},
   "outputs": [
    {
     "name": "stdout",
     "output_type": "stream",
     "text": [
      "Assistant: \n",
      "Assistant: [{\"url\": \"https://cloud.google.com/learn/what-is-artificial-intelligence\", \"content\": \"Solution\\nSolution\\nSolution\\nSolution\\nSolution\\nSolution\\nTake the next step\\nStart\\nbuilding on Google Cloud with $300 in free credits and 20+\\nalways free products.\\n Artificial intelligence (AI) is a set of technologies\\nthat enable computers to perform a variety of advanced\\nfunctions, including the ability to\\nsee,\\nunderstand and\\ntranslate spoken and written language,\\nanalyze data,\\nmake recommendations, and more.\\n Artificial intelligence\\ndefined\\nArtificial intelligence is a field of science\\nconcerned with building computers and machines that\\ncan reason, learn, and act in such a way that would\\nnormally require human intelligence or that involves\\ndata whose scale exceeds what humans can\\nanalyze.\\n By using products like\\nVertex AI,\\nCCAI,\\nDocAI,\\nor AI APIs, organizations can make sense of all the data\\nthey\\u2019re producing, collecting, or otherwise analyzing,\\nno matter what format it\\u2019s in, to make actionable\\nbusiness decisions.\\n On an operational level for business use, AI is a\\nset of technologies that are based primarily on\\nmachine learning and deep learning, used for data\\nanalytics, predictions and forecasting, object\\ncategorization, natural language processing,\\nrecommendations, intelligent data retrieval, and\\nmore.\\n\"}, {\"url\": \"https://www.technologyreview.com/2024/07/10/1094475/what-is-artificial-intelligence-ai-definitive-guide/\", \"content\": \"AI is the buzzword of the decade, AI is marketing jargon from 1955. AI is humanlike, AI is alien. AI is super-smart and as dumb as dirt. The AI boom will boost the economy, the AI bubble is about\"}, {\"url\": \"https://pg-p.ctme.caltech.edu/blog/ai-ml/what-is-artificial-intelligence\", \"content\": \"AI helps vehicles detect and respond to pedestrians, other vehicles and changing traffic conditions, ultimately reducing accidents and enhancing the overall driving experience. Retail: AI is transforming the retail landscape by optimizing inventory management, enhancing customer experiences, and personalizing recommendations.\"}, {\"url\": \"https://www.ibm.com/topics/artificial-intelligence\", \"content\": \"But since the advent of electronic computing (and relative to some of the topics discussed in this article) important events and milestones in the evolution of artificial intelligence include the following:\\nPut AI to work in your business with IBM\\u2019s industry-leading AI expertise and portfolio of solutions at your side.\\n In it, they delve into four potential goals or definitions of AI, which differentiates computer systems on the basis of rationality and thinking vs. acting:\\nHuman approach:\\nIdeal approach:\\nAlan Turing\\u2019s definition would have fallen under the category of \\u201csystems that act like humans.\\u201d\\n IBM acquires Manta to complement data and AI governance capabilities\\nIBM watsonx Orchestrate\\nIBM watsonx Assistant\\nExplore Gen AI learning for developers\\nWeak AI\\u2014also called Narrow AI or Artificial Narrow Intelligence (ANI)\\u2014is AI trained and focused to perform specific tasks. While a number of definitions of artificial intelligence (AI) have surfaced over the last few decades, John McCarthy offers the following definition in this 2004\\u00a0paper\\u00a0(link resides outside ibm.com), \\\" It is the science and engineering of making intelligent machines, especially intelligent computer programs. Artificial general intelligence (AGI), or general AI, is a theoretical form of AI where a machine would have an intelligence equaled to humans; it would have a self-aware consciousness that has the ability to solve problems, learn, and plan for the future.\"}, {\"url\": \"https://www.britannica.com/technology/artificial-intelligence\", \"content\": \"For example, a program that learns the past tense of regular English verbs by rote will not be able to produce the past tense of a word such as jump unless it previously had been presented with jumped, whereas a program that is able to generalize can learn the \\u201cadd ed\\u201d rule and so form the past tense of jump based on experience with similar verbs. The real nature of the wasp\\u2019s instinctual behaviour is revealed if the food is moved a few inches away from the entrance to her burrow while she is inside: on emerging, she will repeat the whole procedure as often as the food is displaced. The program might then store the solution with the position so that the next time the computer encountered the same position it would recall the solution. Artificial intelligence is the ability of a computer or computer-controlled robot to perform tasks that are commonly associated with the\\u00a0intellectual\\u00a0processes characteristic of humans, such as the ability to reason. The term is frequently applied to the project of developing systems endowed with the intellectual processes characteristic of humans, such as the ability to reason, discover meaning, generalize, or learn from past experience.\"}]\n",
      "Assistant: Artificial intelligence (AI) is a set of technologies that enable computers to perform advanced functions, including the ability to see, understand and translate spoken and written language, analyze data, make recommendations, and more. AI is a field of science concerned with building computers and machines that can reason, learn, and act in such a way that would normally require human intelligence. It is used in various industries, including retail, healthcare, and finance, to optimize operations, enhance customer experiences, and make predictions. AI can be categorized into different types, including weak AI, which is focused on specific tasks, and general AI, which is a theoretical form of AI that would have an intelligence equaled to humans.\n",
      "Assistant: I don't have a function available to provide information on an escape. If you'd like to look up a different topic or clarify what you mean by \"escape,\" I can try to assist you further.\n",
      "Assistant: \n",
      "Assistant: [{\"url\": \"https://m.imdb.com/title/tt26451068/\", \"content\": \"Escape: Directed by Howard J. Ford. With Sarah Alexandra Marks, Sophie Rankin, Sean Cronin, Louis James. Ten trafficked women attempt escaping ruthless gang after being abducted from resort. Nurse and dancer lead fight for survival in desert against traffickers during daring getaway plan.\"}, {\"url\": \"https://dictionary.cambridge.org/dictionary/english/escape\", \"content\": \"Learn the meaning of escape as a verb and a noun, with synonyms, antonyms, and usage examples. Find out how to use escape in different contexts, such as getting away from something, avoiding something, or forgetting something.\"}, {\"url\": \"https://www.merriam-webster.com/dictionary/escape\", \"content\": \"Learn the various meanings and uses of the word escape as a verb, noun, and adjective. Find synonyms, examples, etymology, and related phrases of escape.\"}, {\"url\": \"https://armorgames.com/category/escape-games\", \"content\": \"Play free online games where you have to escape from various situations, such as locked rooms, mazes, or zombies. Use your intellect and skills to solve puzzles, find clues, and survive in these challenging and immersive escape games.\"}, {\"url\": \"https://escapehalloween.com/\", \"content\": \"Escape Halloween is a two-day festival of electronic dance music that will shake you to your bones. Celebrate Halloween, Insomniac style, with free water refill stations, food and beverage options, bar access, VIP viewing areas and more.\"}]\n",
      "Assistant: The search results for \"Escape\" include various definitions, games, and entertainment options. \n",
      "\n",
      "According to Dictionary Cambridge, \"escape\" can be used as a verb or a noun, with meanings such as getting away from something or avoiding something. Merriam-Webster also provides definitions and examples of the word \"escape\" as a verb, noun, and adjective.\n",
      "\n",
      "Additionally, there are online games where players have to escape from various situations, such as locked rooms or mazes, which can be found on websites like Armor Games.\n",
      "\n",
      "Lastly, there's an event called \"Escape Halloween\", a two-day festival of electronic dance music that takes place during the Halloween season, featuring various activities and amenities.\n",
      "Goodbye!\n"
     ]
    }
   ],
   "source": [
    "from llm.groq_llm import initialize_groq\n",
    "llm=initialize_groq()\n",
    "from tools.tavily_search_tool import initialize_tavily_tool\n",
    "tool = initialize_tavily_tool()\n",
    "tools=[tool]\n",
    "from agents.agent import build_chatbot_graph\n",
    "graph = build_chatbot_graph(llm, tools)\n",
    "def stream_graph_updates(user_input: str):\n",
    "    for event in graph.stream({\"messages\": [(\"user\", user_input)]}):\n",
    "        for value in event.values():\n",
    "            print(\"Assistant:\", value[\"messages\"][-1].content)\n",
    "while True:\n",
    "    try:\n",
    "        user_input = input(\"User: \")\n",
    "        if user_input.lower() in [\"quit\", \"exit\", \"q\"]:\n",
    "            print(\"Goodbye!\")\n",
    "            break\n",
    "\n",
    "        stream_graph_updates(user_input)\n",
    "    except EOFError: # handle when input is not available (e.g., in automated testing)\n",
    "        user_input = \"What do you know about LangGraph?\"\n",
    "        print(\"User: \" + user_input)\n",
    "        stream_graph_updates(user_input)\n",
    "        break"
   ]
  }
 ],
 "metadata": {
  "kernelspec": {
   "display_name": "Python 3",
   "language": "python",
   "name": "python3"
  },
  "language_info": {
   "codemirror_mode": {
    "name": "ipython",
    "version": 3
   },
   "file_extension": ".py",
   "mimetype": "text/x-python",
   "name": "python",
   "nbconvert_exporter": "python",
   "pygments_lexer": "ipython3",
   "version": "3.11.10"
  }
 },
 "nbformat": 4,
 "nbformat_minor": 2
}
